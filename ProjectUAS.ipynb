{
  "nbformat": 4,
  "nbformat_minor": 0,
  "metadata": {
    "colab": {
      "name": "ProjectUAS.ipynb",
      "provenance": [],
      "authorship_tag": "ABX9TyObZ5rHsBqc475JaM7O1hkU",
      "include_colab_link": true
    },
    "kernelspec": {
      "name": "python3",
      "display_name": "Python 3"
    },
    "language_info": {
      "name": "python"
    }
  },
  "cells": [
    {
      "cell_type": "markdown",
      "metadata": {
        "id": "view-in-github",
        "colab_type": "text"
      },
      "source": [
        "<a href=\"https://colab.research.google.com/github/febrianpr/UAS---PCVK/blob/main/ProjectUAS.ipynb\" target=\"_parent\"><img src=\"https://colab.research.google.com/assets/colab-badge.svg\" alt=\"Open In Colab\"/></a>"
      ]
    },
    {
      "cell_type": "code",
      "execution_count": 1,
      "metadata": {
        "id": "4Vuctcm_QRYZ"
      },
      "outputs": [],
      "source": [
        "import tensorflow as tf     #image classification\n",
        "from keras.preprocessing.image import ImageDataGenerator      #ekstraksi mengubah gambar menjadi array"
      ]
    },
    {
      "cell_type": "code",
      "source": [
        "from google.colab import drive\n",
        "\n",
        "drive.mount('/content/drive')"
      ],
      "metadata": {
        "colab": {
          "base_uri": "https://localhost:8080/"
        },
        "id": "RRso17TqQhCC",
        "outputId": "fa981142-19b4-4e89-e076-081fefde7d5d"
      },
      "execution_count": 2,
      "outputs": [
        {
          "output_type": "stream",
          "name": "stdout",
          "text": [
            "Mounted at /content/drive\n"
          ]
        }
      ]
    },
    {
      "cell_type": "code",
      "source": [
        "train_datagen = ImageDataGenerator(rescale = 1./255,      #mengubah skala nilai citra (citra direpresentasikan sebagai array 3D), untuk memudahkan proses CNN\n",
        "                                   shear_range = 0.2,     \n",
        "                                   zoom_range = 0.2,\n",
        "                                   horizontal_flip = True)"
      ],
      "metadata": {
        "id": "PmfTXSJUQ0PY"
      },
      "execution_count": 3,
      "outputs": []
    },
    {
      "cell_type": "code",
      "source": [
        "training_set = train_datagen.flow_from_directory('/content/drive/MyDrive/dataset/training_set',\n",
        "                                                 target_size = (64, 64),\n",
        "                                                 batch_size = 32,\n",
        "                                                 class_mode = 'binary')"
      ],
      "metadata": {
        "colab": {
          "base_uri": "https://localhost:8080/"
        },
        "id": "TEjgEyAhQ24C",
        "outputId": "49ab2e72-bc49-49fb-9a55-1bc56762efed"
      },
      "execution_count": 5,
      "outputs": [
        {
          "output_type": "stream",
          "name": "stdout",
          "text": [
            "Found 204 images belonging to 2 classes.\n"
          ]
        }
      ]
    },
    {
      "cell_type": "code",
      "source": [
        "# test_datagen = ImageDataGenerator(rescale = 1./255)\n",
        "# test_set = test_datagen.flow_from_directory('/content/drive/MyDrive/dataset/test_set',\n",
        "#                                             target_size = (64, 64),\n",
        "#                                             batch_size = 32,\n",
        "#                                             class_mode = 'binary')"
      ],
      "metadata": {
        "id": "wyS6jlpxRHN0"
      },
      "execution_count": 10,
      "outputs": []
    },
    {
      "cell_type": "code",
      "source": [
        "# Initialising the CNN\n",
        "cnn = tf.keras.models.Sequential()\n",
        "\n",
        "# Step 1 - Convolution\n",
        "cnn.add(tf.keras.layers.Conv2D(filters=32, kernel_size=3, activation='relu' , input_shape=[64, 64, 3])) #ReLu (fungsi aktivasi layer)\n",
        "\n",
        "# Step 2 - Pooling\n",
        "cnn.add(tf.keras.layers.MaxPool2D(pool_size=2, strides=2))\n",
        "\n",
        "# Adding a second convolutional layer\n",
        "cnn.add(tf.keras.layers.Conv2D(filters=64, kernel_size=3, activation='relu'))\n",
        "cnn.add(tf.keras.layers.MaxPool2D(pool_size=2, strides=2))"
      ],
      "metadata": {
        "id": "cxnoyjkKRK3C"
      },
      "execution_count": 8,
      "outputs": []
    },
    {
      "cell_type": "code",
      "source": [
        "# Step 3 - Flattening\n",
        "cnn.add(tf.keras.layers.Flatten())\n",
        "\n",
        "# Step 4 - Full Connection\n",
        "cnn.add(tf.keras.layers.Dense(units=128, activation='relu'))\n",
        "\n",
        "# Step 5 - Output Layer\n",
        "cnn.add(tf.keras.layers.Dense(units=1, activation='sigmoid'))"
      ],
      "metadata": {
        "id": "jIoLkhKYRLn0"
      },
      "execution_count": 11,
      "outputs": []
    },
    {
      "cell_type": "code",
      "source": [
        "# Compiling the CNN\n",
        "cnn.compile(optimizer = 'adam', loss = 'binary_crossentropy', metrics = ['accuracy'])"
      ],
      "metadata": {
        "id": "1IgCTUdlRTud"
      },
      "execution_count": 12,
      "outputs": []
    },
    {
      "cell_type": "code",
      "source": [
        "cnn.fit(x = training_set, epochs = 25)"
      ],
      "metadata": {
        "colab": {
          "base_uri": "https://localhost:8080/"
        },
        "id": "d7WSPQbSRWjX",
        "outputId": "7a7e458e-9dd3-4438-9a1f-1a47cf0b4037"
      },
      "execution_count": 13,
      "outputs": [
        {
          "output_type": "stream",
          "name": "stdout",
          "text": [
            "Epoch 1/25\n",
            "7/7 [==============================] - 15s 2s/step - loss: 0.6745 - accuracy: 0.6225\n",
            "Epoch 2/25\n",
            "7/7 [==============================] - 2s 282ms/step - loss: 0.5813 - accuracy: 0.7010\n",
            "Epoch 3/25\n",
            "7/7 [==============================] - 2s 327ms/step - loss: 0.5383 - accuracy: 0.7402\n",
            "Epoch 4/25\n",
            "7/7 [==============================] - 2s 282ms/step - loss: 0.5680 - accuracy: 0.7010\n",
            "Epoch 5/25\n",
            "7/7 [==============================] - 2s 277ms/step - loss: 0.5223 - accuracy: 0.7647\n",
            "Epoch 6/25\n",
            "7/7 [==============================] - 2s 330ms/step - loss: 0.5061 - accuracy: 0.7598\n",
            "Epoch 7/25\n",
            "7/7 [==============================] - 2s 328ms/step - loss: 0.4636 - accuracy: 0.7843\n",
            "Epoch 8/25\n",
            "7/7 [==============================] - 2s 281ms/step - loss: 0.4237 - accuracy: 0.8039\n",
            "Epoch 9/25\n",
            "7/7 [==============================] - 2s 289ms/step - loss: 0.4857 - accuracy: 0.7696\n",
            "Epoch 10/25\n",
            "7/7 [==============================] - 2s 297ms/step - loss: 0.4586 - accuracy: 0.8333\n",
            "Epoch 11/25\n",
            "7/7 [==============================] - 2s 292ms/step - loss: 0.4151 - accuracy: 0.8333\n",
            "Epoch 12/25\n",
            "7/7 [==============================] - 2s 299ms/step - loss: 0.4107 - accuracy: 0.7990\n",
            "Epoch 13/25\n",
            "7/7 [==============================] - 2s 326ms/step - loss: 0.4409 - accuracy: 0.8088\n",
            "Epoch 14/25\n",
            "7/7 [==============================] - 2s 281ms/step - loss: 0.4430 - accuracy: 0.8088\n",
            "Epoch 15/25\n",
            "7/7 [==============================] - 2s 285ms/step - loss: 0.3762 - accuracy: 0.8382\n",
            "Epoch 16/25\n",
            "7/7 [==============================] - 2s 277ms/step - loss: 0.3587 - accuracy: 0.8480\n",
            "Epoch 17/25\n",
            "7/7 [==============================] - 2s 328ms/step - loss: 0.4094 - accuracy: 0.8039\n",
            "Epoch 18/25\n",
            "7/7 [==============================] - 2s 279ms/step - loss: 0.3823 - accuracy: 0.8676\n",
            "Epoch 19/25\n",
            "7/7 [==============================] - 2s 286ms/step - loss: 0.3490 - accuracy: 0.8431\n",
            "Epoch 20/25\n",
            "7/7 [==============================] - 2s 280ms/step - loss: 0.3070 - accuracy: 0.8627\n",
            "Epoch 21/25\n",
            "7/7 [==============================] - 2s 289ms/step - loss: 0.3193 - accuracy: 0.8676\n",
            "Epoch 22/25\n",
            "7/7 [==============================] - 2s 298ms/step - loss: 0.2706 - accuracy: 0.9020\n",
            "Epoch 23/25\n",
            "7/7 [==============================] - 2s 286ms/step - loss: 0.3343 - accuracy: 0.8627\n",
            "Epoch 24/25\n",
            "7/7 [==============================] - 2s 284ms/step - loss: 0.2988 - accuracy: 0.8627\n",
            "Epoch 25/25\n",
            "7/7 [==============================] - 2s 297ms/step - loss: 0.2844 - accuracy: 0.9020\n"
          ]
        },
        {
          "output_type": "execute_result",
          "data": {
            "text/plain": [
              "<keras.callbacks.History at 0x7fa50ad6c7d0>"
            ]
          },
          "metadata": {},
          "execution_count": 13
        }
      ]
    },
    {
      "cell_type": "code",
      "source": [
        "import numpy as np\n",
        "from keras.preprocessing import image\n",
        "test_image = image.load_img('/content/drive/MyDrive/dataset/testing/58.jpg', target_size = (64, 64))\n",
        "test_image = image.img_to_array(test_image)\n",
        "test_image = np.expand_dims(test_image, axis = 0)\n",
        "result = cnn.predict(test_image)\n",
        "training_set.class_indices\n",
        "if result[0][0] == 1:\n",
        "    prediction = 'brain tumor'\n",
        "else:\n",
        "    prediction = 'no brain tumor'\n",
        "print(prediction)"
      ],
      "metadata": {
        "colab": {
          "base_uri": "https://localhost:8080/"
        },
        "id": "fkQPREmyRyFY",
        "outputId": "26474b2f-6ec0-4d87-8438-0448b02da3df"
      },
      "execution_count": 17,
      "outputs": [
        {
          "output_type": "stream",
          "name": "stdout",
          "text": [
            "no brain tumor\n"
          ]
        }
      ]
    }
  ]
}